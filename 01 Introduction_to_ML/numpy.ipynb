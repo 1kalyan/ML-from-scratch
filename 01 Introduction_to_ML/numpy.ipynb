{
  "nbformat": 4,
  "nbformat_minor": 0,
  "metadata": {
    "colab": {
      "provenance": [],
      "toc_visible": true,
      "authorship_tag": "ABX9TyOEC/9BpntiGsDt+NPildLf",
      "include_colab_link": true
    },
    "kernelspec": {
      "name": "python3",
      "display_name": "Python 3"
    },
    "language_info": {
      "name": "python"
    }
  },
  "cells": [
    {
      "cell_type": "markdown",
      "metadata": {
        "id": "view-in-github",
        "colab_type": "text"
      },
      "source": [
        "<a href=\"https://colab.research.google.com/github/1kalyan/ML-from-scratch/blob/main/01%20Introduction_to_ML/numpy.ipynb\" target=\"_parent\"><img src=\"https://colab.research.google.com/assets/colab-badge.svg\" alt=\"Open In Colab\"/></a>"
      ]
    },
    {
      "cell_type": "markdown",
      "source": [],
      "metadata": {
        "id": "3ReKdCipgjj4"
      }
    },
    {
      "cell_type": "markdown",
      "source": [
        "## Introduction to Numpy\n",
        "What will we cover?\n",
        "- Creating arrays\n",
        "- multi dimensional array\n",
        "- Randomly generated arrays\n",
        "- Element wise operations\n",
        "    - Comparision Operations\n",
        "    - Logical Operations\n",
        "- Summarizing Operations"
      ],
      "metadata": {
        "id": "f9j_1-J3gl5K"
      }
    },
    {
      "cell_type": "markdown",
      "source": [
        "## Single Dimensional array\n"
      ],
      "metadata": {
        "id": "8M0o-Et9n2kV"
      }
    },
    {
      "cell_type": "code",
      "execution_count": 1,
      "metadata": {
        "id": "78zKb-togLUH"
      },
      "outputs": [],
      "source": [
        "import numpy as np\n"
      ]
    },
    {
      "cell_type": "markdown",
      "source": [
        "###Creating Array\n"
      ],
      "metadata": {
        "id": "angksds1izjW"
      }
    },
    {
      "cell_type": "code",
      "source": [
        "var = np.zeros(5);\n",
        "print(type(var))"
      ],
      "metadata": {
        "colab": {
          "base_uri": "https://localhost:8080/"
        },
        "id": "XlhZ1lqHi3lx",
        "outputId": "ff5f1dad-e3c6-4203-b924-ae21fbbfecc9"
      },
      "execution_count": 3,
      "outputs": [
        {
          "output_type": "stream",
          "name": "stdout",
          "text": [
            "<class 'numpy.ndarray'>\n"
          ]
        }
      ]
    },
    {
      "cell_type": "markdown",
      "source": [
        "<!-- np.zeros(10) -->"
      ],
      "metadata": {
        "id": "O83cxC_ejQTr"
      }
    },
    {
      "cell_type": "code",
      "source": [
        "np.zeros(10)"
      ],
      "metadata": {
        "colab": {
          "base_uri": "https://localhost:8080/"
        },
        "id": "vL7mUzTsjj7o",
        "outputId": "5eb7a272-429f-4c03-ff02-78fdc905d315"
      },
      "execution_count": 5,
      "outputs": [
        {
          "output_type": "execute_result",
          "data": {
            "text/plain": [
              "array([0., 0., 0., 0., 0., 0., 0., 0., 0., 0.])"
            ]
          },
          "metadata": {},
          "execution_count": 5
        }
      ]
    },
    {
      "cell_type": "code",
      "source": [
        "np.ones(10)"
      ],
      "metadata": {
        "colab": {
          "base_uri": "https://localhost:8080/"
        },
        "id": "-rNdOgA9jt1w",
        "outputId": "99e10808-7ce8-42a5-dbb5-1c085fe68a85"
      },
      "execution_count": 6,
      "outputs": [
        {
          "output_type": "execute_result",
          "data": {
            "text/plain": [
              "array([1., 1., 1., 1., 1., 1., 1., 1., 1., 1.])"
            ]
          },
          "metadata": {},
          "execution_count": 6
        }
      ]
    },
    {
      "cell_type": "code",
      "source": [
        "np.full(10, 3)"
      ],
      "metadata": {
        "colab": {
          "base_uri": "https://localhost:8080/"
        },
        "id": "IN4Pm3RXj2oQ",
        "outputId": "30781433-4028-4173-b7a2-4893dc7aa93e"
      },
      "execution_count": 9,
      "outputs": [
        {
          "output_type": "execute_result",
          "data": {
            "text/plain": [
              "array([3, 3, 3, 3, 3, 3, 3, 3, 3, 3])"
            ]
          },
          "metadata": {},
          "execution_count": 9
        }
      ]
    },
    {
      "cell_type": "markdown",
      "source": [
        "###Defining our own **array**"
      ],
      "metadata": {
        "id": "q3khJL_ilT5O"
      }
    },
    {
      "cell_type": "code",
      "source": [
        "var = np.array([1, 2 , 3, 4])"
      ],
      "metadata": {
        "id": "q4tyAT3HkkQl"
      },
      "execution_count": 11,
      "outputs": []
    },
    {
      "cell_type": "code",
      "source": [
        "var[2] = 5\n",
        "var[-1] = 6\n",
        "print(var)"
      ],
      "metadata": {
        "colab": {
          "base_uri": "https://localhost:8080/"
        },
        "id": "bBSuBW4Qk54W",
        "outputId": "681595f1-bb5e-440e-bd91-0d37b57167db"
      },
      "execution_count": 16,
      "outputs": [
        {
          "output_type": "stream",
          "name": "stdout",
          "text": [
            "[1 2 5 6]\n"
          ]
        }
      ]
    },
    {
      "cell_type": "markdown",
      "source": [
        "###Range of number in numpy\n"
      ],
      "metadata": {
        "id": "o3k7TiiOmozv"
      }
    },
    {
      "cell_type": "code",
      "source": [
        "np.arange(3, 10)"
      ],
      "metadata": {
        "colab": {
          "base_uri": "https://localhost:8080/"
        },
        "id": "TEZolzdllpeL",
        "outputId": "7227901f-ac0e-4a7e-d9f7-3fdb7494f606"
      },
      "execution_count": 17,
      "outputs": [
        {
          "output_type": "execute_result",
          "data": {
            "text/plain": [
              "array([3, 4, 5, 6, 7, 8, 9])"
            ]
          },
          "metadata": {},
          "execution_count": 17
        }
      ]
    },
    {
      "cell_type": "markdown",
      "source": [
        "### Create array with evenly spaced numbers within a specific range\n"
      ],
      "metadata": {
        "id": "t4TeTCzUmveb"
      }
    },
    {
      "cell_type": "markdown",
      "source": [],
      "metadata": {
        "id": "m6tOzrryoGNp"
      }
    },
    {
      "cell_type": "code",
      "source": [
        "np.linspace(0, 100, 11)"
      ],
      "metadata": {
        "colab": {
          "base_uri": "https://localhost:8080/"
        },
        "id": "dWam2WUYmKXc",
        "outputId": "06357289-1055-4bb6-f2ad-6a5eb1bd7cae"
      },
      "execution_count": 20,
      "outputs": [
        {
          "output_type": "execute_result",
          "data": {
            "text/plain": [
              "array([  0.,  10.,  20.,  30.,  40.,  50.,  60.,  70.,  80.,  90., 100.])"
            ]
          },
          "metadata": {},
          "execution_count": 20
        }
      ]
    },
    {
      "cell_type": "code",
      "source": [],
      "metadata": {
        "id": "W923hbU7nMJ-"
      },
      "execution_count": null,
      "outputs": []
    },
    {
      "cell_type": "markdown",
      "source": [
        "##Multi Dimensional arrays\n"
      ],
      "metadata": {
        "id": "RfPd77c8oPMb"
      }
    },
    {
      "cell_type": "code",
      "source": [
        "np.zeros((5,2)) #5 row 2 column"
      ],
      "metadata": {
        "colab": {
          "base_uri": "https://localhost:8080/"
        },
        "id": "TmW-tu1joUZr",
        "outputId": "cb941740-b41e-48dc-c3b4-ce16b5465def"
      },
      "execution_count": 22,
      "outputs": [
        {
          "output_type": "execute_result",
          "data": {
            "text/plain": [
              "array([[0., 0.],\n",
              "       [0., 0.],\n",
              "       [0., 0.],\n",
              "       [0., 0.],\n",
              "       [0., 0.]])"
            ]
          },
          "metadata": {},
          "execution_count": 22
        }
      ]
    },
    {
      "cell_type": "code",
      "source": [
        "#Create a MUd unit array of size (5,2)\n",
        "np.ones((5,2))\n"
      ],
      "metadata": {
        "colab": {
          "base_uri": "https://localhost:8080/"
        },
        "id": "qvYNKw4BofoB",
        "outputId": "29421a37-16c2-4f54-8ff8-9d65b9d930a3"
      },
      "execution_count": 25,
      "outputs": [
        {
          "output_type": "execute_result",
          "data": {
            "text/plain": [
              "array([[1., 1.],\n",
              "       [1., 1.],\n",
              "       [1., 1.],\n",
              "       [1., 1.],\n",
              "       [1., 1.]])"
            ]
          },
          "metadata": {},
          "execution_count": 25
        }
      ]
    },
    {
      "cell_type": "code",
      "source": [
        "#create a random array of size(3,5) with elements using random integer\n",
        "\n",
        "np.array(np.random.randint(5, size=(3,5)))\n",
        "\n",
        "\n",
        "\n",
        "#create a random array of size(3,5) with elements using number of your choice\n",
        "\n",
        "updatingA = np.array([[1, 2, 3, 4, 5],\n",
        "                      [6, 7, 8, 9, 10],\n",
        "                      [1, 5, 6, 7, 8]])\n",
        "print(updatingA)"
      ],
      "metadata": {
        "colab": {
          "base_uri": "https://localhost:8080/"
        },
        "id": "OOeHILT1ojcO",
        "outputId": "179d650b-f69f-42ec-ab44-16edc54952a6"
      },
      "execution_count": 38,
      "outputs": [
        {
          "output_type": "stream",
          "name": "stdout",
          "text": [
            "[[ 1  2  3  4  5]\n",
            " [ 6  7  8  9 10]\n",
            " [ 1  5  6  7  8]]\n"
          ]
        }
      ]
    },
    {
      "cell_type": "code",
      "source": [
        "# update the element of an array with index\n",
        "updatingA[1,2] = 88\n",
        "print(updatingA)"
      ],
      "metadata": {
        "colab": {
          "base_uri": "https://localhost:8080/"
        },
        "id": "r7hdJ060o682",
        "outputId": "ecaab9e2-1135-4f5b-d09e-44403f7d29bd"
      },
      "execution_count": 36,
      "outputs": [
        {
          "output_type": "stream",
          "name": "stdout",
          "text": [
            "[[ 1  2  3  4  5]\n",
            " [ 6  7 88  9 10]\n",
            " [ 1  5  6  7  8]]\n"
          ]
        }
      ]
    },
    {
      "cell_type": "code",
      "source": [
        "updatingA[2] = 1\n",
        "updatingA[ : , 2] = [2 , 3, 5]\n",
        "print(updatingA)"
      ],
      "metadata": {
        "colab": {
          "base_uri": "https://localhost:8080/"
        },
        "id": "Sny3RHnOp6Nq",
        "outputId": "c2fbd6c6-4da5-45df-85c2-e46401b74fc4"
      },
      "execution_count": 51,
      "outputs": [
        {
          "output_type": "stream",
          "name": "stdout",
          "text": [
            "[[ 1  2  2  4  5]\n",
            " [ 6  7  3  9 10]\n",
            " [ 1  1  5  1  1]]\n"
          ]
        }
      ]
    },
    {
      "cell_type": "markdown",
      "source": [
        "## 🍀🃏Randomly Generated arrays\n",
        "\n",
        "- NumPY can create arrays filled with random number\n",
        "\n",
        "- To ensure the reproducibility  you can use Seed can be use to control the randomness that is np.random.seed()\n",
        "\n",
        "- Everytime you run the code with np.random.seed(2), it will generate the exact same random numbers\n",
        "# New section\n",
        "     If you remove or change the seed values, the sequence of random numbers will be changed\n"
      ],
      "metadata": {
        "id": "9orgzHvksY3C"
      }
    },
    {
      "cell_type": "code",
      "source": [
        "np.random.rand(3)"
      ],
      "metadata": {
        "colab": {
          "base_uri": "https://localhost:8080/"
        },
        "id": "9Jo3QgLwqZ_4",
        "outputId": "0d259036-2c85-46de-fabc-386b3d9040e4"
      },
      "execution_count": 55,
      "outputs": [
        {
          "output_type": "execute_result",
          "data": {
            "text/plain": [
              "array([0.87452718, 0.31352841, 0.69600069])"
            ]
          },
          "metadata": {},
          "execution_count": 55
        }
      ]
    },
    {
      "cell_type": "code",
      "source": [
        "np.random.seed(3)\n",
        "np.random.rand(5)"
      ],
      "metadata": {
        "colab": {
          "base_uri": "https://localhost:8080/"
        },
        "id": "BSCssjCptoLn",
        "outputId": "0b2d70e7-d017-4283-e39b-fd408166e2be"
      },
      "execution_count": 71,
      "outputs": [
        {
          "output_type": "execute_result",
          "data": {
            "text/plain": [
              "array([0.5507979 , 0.70814782, 0.29090474, 0.51082761, 0.89294695])"
            ]
          },
          "metadata": {},
          "execution_count": 71
        }
      ]
    },
    {
      "cell_type": "code",
      "source": [
        "np.random.seed(5)\n",
        "np.random.rand(5,2)"
      ],
      "metadata": {
        "colab": {
          "base_uri": "https://localhost:8080/"
        },
        "id": "0I0s61Bkv7SK",
        "outputId": "5aeda2f6-1bfd-4dc4-fde6-c0bbf21530c9"
      },
      "execution_count": 81,
      "outputs": [
        {
          "output_type": "execute_result",
          "data": {
            "text/plain": [
              "array([[0.22199317, 0.87073231],\n",
              "       [0.20671916, 0.91861091],\n",
              "       [0.48841119, 0.61174386],\n",
              "       [0.76590786, 0.51841799],\n",
              "       [0.2968005 , 0.18772123]])"
            ]
          },
          "metadata": {},
          "execution_count": 81
        }
      ]
    },
    {
      "cell_type": "code",
      "source": [
        "np.random.seed(2)\n",
        "np.random.randint(1 , 100 , 5)"
      ],
      "metadata": {
        "colab": {
          "base_uri": "https://localhost:8080/"
        },
        "id": "L2kvQLWLuI6Y",
        "outputId": "758cfce9-20dd-4072-8932-87d9e87d8e88"
      },
      "execution_count": 77,
      "outputs": [
        {
          "output_type": "execute_result",
          "data": {
            "text/plain": [
              "array([41, 16, 73, 23, 44])"
            ]
          },
          "metadata": {},
          "execution_count": 77
        }
      ]
    },
    {
      "cell_type": "code",
      "source": [
        "np.random.randn(5,2) #normally distributed"
      ],
      "metadata": {
        "colab": {
          "base_uri": "https://localhost:8080/"
        },
        "id": "Y2qOMM2QvzzJ",
        "outputId": "29c8cf08-04e2-4eb3-8549-a1d1980762c2"
      },
      "execution_count": 91,
      "outputs": [
        {
          "output_type": "execute_result",
          "data": {
            "text/plain": [
              "array([[-0.36794457,  2.1114884 ],\n",
              "       [-1.02957349, -1.33628031],\n",
              "       [-0.61056736,  0.52469426],\n",
              "       [-0.34930813, -0.44073846],\n",
              "       [-1.1212876 ,  1.47284473]])"
            ]
          },
          "metadata": {},
          "execution_count": 91
        }
      ]
    },
    {
      "cell_type": "code",
      "source": [
        "# Define the NumPy array\n",
        "arr = np.array([[-0.36794457,  2.1114884 ],\n",
        "                [-1.02957349, -1.33628031],\n",
        "                [-0.61056736,  0.52469426],\n",
        "                [-0.34930813, -0.44073846],\n",
        "                [-1.1212876 ,  1.47284473]])\n",
        "\n",
        "# Calculate mean\n",
        "mean_all = np.mean(arr)  # Mean of all elements\n",
        "mean_row = np.mean(arr, axis=1)  # Mean of each row\n",
        "mean_col = np.mean(arr, axis=0)  # Mean of each column\n",
        "\n",
        "# Calculate standard deviation\n",
        "std_all = np.std(arr)  # Standard deviation of all elements\n",
        "std_row = np.std(arr, axis=1)  # Standard deviation of each row\n",
        "std_col = np.std(arr, axis=0)  # Standard deviation of each column\n",
        "\n",
        "# Print results\n",
        "print(\"Mean of all elements:\", mean_all)\n",
        "print(\"Mean of each row:\", mean_row)\n",
        "print(\"Mean of each column:\", mean_col)\n",
        "print(\"Standard deviation of all elements:\", std_all)\n",
        "print(\"Standard deviation of each row:\", std_row)\n",
        "print(\"Standard deviation of each column:\", std_col)"
      ],
      "metadata": {
        "colab": {
          "base_uri": "https://localhost:8080/"
        },
        "id": "T4R8VxmkwR0F",
        "outputId": "9ad0c3ca-a2bc-45cb-b479-d6583ffd0a1b"
      },
      "execution_count": 92,
      "outputs": [
        {
          "output_type": "stream",
          "name": "stdout",
          "text": [
            "Mean of all elements: -0.11466725300000002\n",
            "Mean of each row: [ 0.87177191 -1.1829269  -0.04293655 -0.39502329  0.17577856]\n",
            "Mean of each column: [-0.69573623  0.46640172]\n",
            "Standard deviation of all elements: 1.0816130512808162\n",
            "Standard deviation of each row: [1.23971648 0.15335341 0.56763081 0.04571517 1.29706616]\n",
            "Standard deviation of each column: [0.32473214 1.24861536]\n"
          ]
        }
      ]
    },
    {
      "cell_type": "code",
      "source": [
        "np.random.seed(42)\n",
        "np.random.randint(low = 0 , high = 100 , size = [5,2])"
      ],
      "metadata": {
        "colab": {
          "base_uri": "https://localhost:8080/"
        },
        "id": "14S5-zFEw6pM",
        "outputId": "31803cdf-5bd4-471e-b373-814beca4bc14"
      },
      "execution_count": 95,
      "outputs": [
        {
          "output_type": "execute_result",
          "data": {
            "text/plain": [
              "array([[51, 92],\n",
              "       [14, 71],\n",
              "       [60, 20],\n",
              "       [82, 86],\n",
              "       [74, 74]])"
            ]
          },
          "metadata": {},
          "execution_count": 95
        }
      ]
    },
    {
      "cell_type": "markdown",
      "source": [
        "### Element wise operations\n"
      ],
      "metadata": {
        "id": "qjUoZXVKymZr"
      }
    },
    {
      "cell_type": "code",
      "source": [
        "a = np.arange(5)\n",
        "a"
      ],
      "metadata": {
        "colab": {
          "base_uri": "https://localhost:8080/"
        },
        "id": "pfMCcaKsx3TY",
        "outputId": "22556542-b549-4de9-9085-b2ce7616e4d9"
      },
      "execution_count": 96,
      "outputs": [
        {
          "output_type": "execute_result",
          "data": {
            "text/plain": [
              "array([0, 1, 2, 3, 4])"
            ]
          },
          "metadata": {},
          "execution_count": 96
        }
      ]
    },
    {
      "cell_type": "code",
      "source": [
        "b = (10+ (a*2))\n",
        "b"
      ],
      "metadata": {
        "colab": {
          "base_uri": "https://localhost:8080/"
        },
        "id": "SnXG7RumyuCO",
        "outputId": "98856c74-569c-4a30-f8f9-88d09d658e39"
      },
      "execution_count": 97,
      "outputs": [
        {
          "output_type": "execute_result",
          "data": {
            "text/plain": [
              "array([10, 12, 14, 16, 18])"
            ]
          },
          "metadata": {},
          "execution_count": 97
        }
      ]
    },
    {
      "cell_type": "code",
      "source": [
        "#Comprasion operations\n",
        "\n",
        "# You can perform element wise comprasion and create boolean array\n",
        "a >= 2"
      ],
      "metadata": {
        "colab": {
          "base_uri": "https://localhost:8080/"
        },
        "id": "qT5B1pXMy__y",
        "outputId": "373c2a52-9258-4f75-86f0-68206ee1e2a4"
      },
      "execution_count": 98,
      "outputs": [
        {
          "output_type": "execute_result",
          "data": {
            "text/plain": [
              "array([False, False,  True,  True,  True])"
            ]
          },
          "metadata": {},
          "execution_count": 98
        }
      ]
    },
    {
      "cell_type": "code",
      "source": [
        "a > b"
      ],
      "metadata": {
        "colab": {
          "base_uri": "https://localhost:8080/"
        },
        "id": "o1mjUlbXzQtj",
        "outputId": "eb6e7491-666e-40c9-87b6-f2c73f13fe2f"
      },
      "execution_count": 99,
      "outputs": [
        {
          "output_type": "execute_result",
          "data": {
            "text/plain": [
              "array([False, False, False, False, False])"
            ]
          },
          "metadata": {},
          "execution_count": 99
        }
      ]
    },
    {
      "cell_type": "code",
      "source": [
        "a[4] > b[0]"
      ],
      "metadata": {
        "colab": {
          "base_uri": "https://localhost:8080/"
        },
        "id": "NoFeAP5EzcZO",
        "outputId": "e635982f-2bcb-4965-c500-2361992811fe"
      },
      "execution_count": 100,
      "outputs": [
        {
          "output_type": "execute_result",
          "data": {
            "text/plain": [
              "False"
            ]
          },
          "metadata": {},
          "execution_count": 100
        }
      ]
    },
    {
      "cell_type": "code",
      "source": [
        "#summarizing\n",
        "#Numpy provides functions for summarizind array of data\n",
        "a"
      ],
      "metadata": {
        "colab": {
          "base_uri": "https://localhost:8080/"
        },
        "id": "AG72oZ85zhht",
        "outputId": "ba92d916-8806-4ec2-b74a-00d1b7743c17"
      },
      "execution_count": 105,
      "outputs": [
        {
          "output_type": "execute_result",
          "data": {
            "text/plain": [
              "array([0, 1, 2, 3, 4])"
            ]
          },
          "metadata": {},
          "execution_count": 105
        }
      ]
    },
    {
      "cell_type": "code",
      "source": [
        "#standard deviation\n",
        "a.std()"
      ],
      "metadata": {
        "colab": {
          "base_uri": "https://localhost:8080/"
        },
        "id": "S4x-iTTOzmJF",
        "outputId": "2f562a83-5e4a-4cb7-fa4a-27dd2350aa96"
      },
      "execution_count": 107,
      "outputs": [
        {
          "output_type": "execute_result",
          "data": {
            "text/plain": [
              "1.4142135623730951"
            ]
          },
          "metadata": {},
          "execution_count": 107
        }
      ]
    },
    {
      "cell_type": "code",
      "source": [
        "#min vaule od an array\n",
        "a.min()"
      ],
      "metadata": {
        "colab": {
          "base_uri": "https://localhost:8080/"
        },
        "id": "80Ecc5KWz2tM",
        "outputId": "174064b6-4a8c-4b97-d889-23005bc8b013"
      },
      "execution_count": 108,
      "outputs": [
        {
          "output_type": "execute_result",
          "data": {
            "text/plain": [
              "0"
            ]
          },
          "metadata": {},
          "execution_count": 108
        }
      ]
    },
    {
      "cell_type": "code",
      "source": [
        "#max value of an array\n",
        "a.max()"
      ],
      "metadata": {
        "colab": {
          "base_uri": "https://localhost:8080/"
        },
        "id": "edPozcihz70n",
        "outputId": "4fc6446b-09c1-40b3-ca65-66e0f3828a46"
      },
      "execution_count": 109,
      "outputs": [
        {
          "output_type": "execute_result",
          "data": {
            "text/plain": [
              "4"
            ]
          },
          "metadata": {},
          "execution_count": 109
        }
      ]
    },
    {
      "cell_type": "code",
      "source": [
        "#sum of elements of an array\n",
        "a.sum()"
      ],
      "metadata": {
        "colab": {
          "base_uri": "https://localhost:8080/"
        },
        "id": "8EcrMdr3z-kR",
        "outputId": "94cf8ca7-8467-445c-96ba-51cc35e9003a"
      },
      "execution_count": 110,
      "outputs": [
        {
          "output_type": "execute_result",
          "data": {
            "text/plain": [
              "10"
            ]
          },
          "metadata": {},
          "execution_count": 110
        }
      ]
    },
    {
      "cell_type": "code",
      "source": [
        "#mean of array\n",
        "a.mean()"
      ],
      "metadata": {
        "colab": {
          "base_uri": "https://localhost:8080/"
        },
        "id": "8MfvlmF-0CD0",
        "outputId": "561c527d-4ddd-4f4f-9d20-465cf15cbd9c"
      },
      "execution_count": 112,
      "outputs": [
        {
          "output_type": "execute_result",
          "data": {
            "text/plain": [
              "2.0"
            ]
          },
          "metadata": {},
          "execution_count": 112
        }
      ]
    },
    {
      "cell_type": "code",
      "source": [],
      "metadata": {
        "id": "692Mzs780DwJ"
      },
      "execution_count": null,
      "outputs": []
    }
  ]
}